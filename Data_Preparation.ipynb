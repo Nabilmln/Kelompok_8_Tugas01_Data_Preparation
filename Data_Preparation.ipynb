{
  "nbformat": 4,
  "nbformat_minor": 0,
  "metadata": {
    "colab": {
      "provenance": []
    },
    "kernelspec": {
      "name": "python3",
      "display_name": "Python 3"
    },
    "language_info": {
      "name": "python"
    }
  },
  "cells": [
    {
      "cell_type": "markdown",
      "source": [
        "### Import Library"
      ],
      "metadata": {
        "id": "jdKEMNIuyMcC"
      }
    },
    {
      "cell_type": "code",
      "execution_count": 7,
      "metadata": {
        "id": "yfE7zjAKWJYP"
      },
      "outputs": [],
      "source": [
        "import os\n",
        "import math\n",
        "import kagglehub\n",
        "import pandas as pd\n",
        "import seaborn as sns\n",
        "import matplotlib.pyplot as plt\n",
        "from sklearn.compose import ColumnTransformer\n",
        "from sklearn.preprocessing import LabelEncoder, MinMaxScaler\n",
        "from sklearn.model_selection import train_test_split"
      ]
    },
    {
      "cell_type": "markdown",
      "source": [
        "## Download and Explore the Student Depression Dataset\n",
        "\n",
        "This code download the latest version of the \"Student Depression\" dataset from KaggleHub, and then list the files contained in the downloaded directory.\n",
        "\n",
        "### Code Breakdown\n",
        "- The function `kagglehub.dataset_download(\"hopesb/student-depression-dataset\")` is used to download the dataset.\n",
        "- The returned value, stored in the variable `path`, is the location where the dataset files are saved.\n"
      ],
      "metadata": {
        "id": "s3AqN9vdysV8"
      }
    },
    {
      "cell_type": "code",
      "source": [
        "# Download latest version\n",
        "path = kagglehub.dataset_download(\"hopesb/student-depression-dataset\")\n",
        "\n",
        "print(\"Path to dataset files:\", path)"
      ],
      "metadata": {
        "colab": {
          "base_uri": "https://localhost:8080/"
        },
        "id": "c9gwEZcYYGHL",
        "outputId": "df1ba683-60e1-4e1f-9478-b0e815c7dbb2"
      },
      "execution_count": 8,
      "outputs": [
        {
          "output_type": "stream",
          "name": "stdout",
          "text": [
            "Downloading from https://www.kaggle.com/api/v1/datasets/download/hopesb/student-depression-dataset?dataset_version_number=1...\n"
          ]
        },
        {
          "output_type": "stream",
          "name": "stderr",
          "text": [
            "100%|██████████| 454k/454k [00:00<00:00, 23.2MB/s]"
          ]
        },
        {
          "output_type": "stream",
          "name": "stdout",
          "text": [
            "Extracting files...\n",
            "Path to dataset files: /root/.cache/kagglehub/datasets/hopesb/student-depression-dataset/versions/1\n"
          ]
        },
        {
          "output_type": "stream",
          "name": "stderr",
          "text": [
            "\n"
          ]
        }
      ]
    },
    {
      "cell_type": "code",
      "source": [
        "files = os.listdir(path) if os.path.isdir(path) else []\n",
        "print(\"Isi folder:\", files)"
      ],
      "metadata": {
        "colab": {
          "base_uri": "https://localhost:8080/"
        },
        "id": "PrjxlfCTbD18",
        "outputId": "bc73bc8c-b296-4e6c-e624-4e051530d2cb"
      },
      "execution_count": 9,
      "outputs": [
        {
          "output_type": "stream",
          "name": "stdout",
          "text": [
            "Isi folder: ['Student Depression Dataset.csv']\n"
          ]
        }
      ]
    },
    {
      "cell_type": "markdown",
      "source": [
        "## Loading the Student Depression Dataset CSV File\n",
        "\n",
        "This code snippet demonstrates how to load a CSV file containing the \"Student Depression\" dataset using `pandas` and how to handle potential exceptions during the file reading process.\n",
        "\n",
        "### Code Breakdown\n",
        "\n",
        "- The code tries to load the CSV file using `pd.read_csv()`.\n",
        "- It constructs the file path by concatenating the `path` variable with the CSV file name `/Student Depression Dataset.csv`.\n",
        "- If the file is loaded successfully, it prints a success message."
      ],
      "metadata": {
        "id": "KLg2s7m7NSBg"
      }
    },
    {
      "cell_type": "code",
      "source": [
        "try:\n",
        "  df = pd.read_csv(path + '/Student Depression Dataset.csv')\n",
        "  print(\"dataset load succesfully\")\n",
        "except FileNotFoundError:\n",
        "  print(f\"Error: File 'student-depression-dataset.csv' not found in {path}. Please check the file name and path.\")\n",
        "except Exception as e:\n",
        "  print(f\"An error occurred: {e}\")\n"
      ],
      "metadata": {
        "colab": {
          "base_uri": "https://localhost:8080/"
        },
        "id": "lXRgnJYlYi7W",
        "outputId": "6d1a26c5-d044-4e91-f7c5-4893d0875e62"
      },
      "execution_count": 10,
      "outputs": [
        {
          "output_type": "stream",
          "name": "stdout",
          "text": [
            "dataset load succesfully\n"
          ]
        }
      ]
    },
    {
      "cell_type": "markdown",
      "source": [
        "## DataFrame Inspection and Summary Statistics\n",
        "\n",
        "This code snippet is used to inspect and analyze a Pandas DataFrame (`df`). Each command provides a different perspective on the data, helping you understand its structure, contents, and quality.\n",
        "\n",
        "## Code Explanation\n",
        "\n"
      ],
      "metadata": {
        "id": "lPVPgB3kNY4X"
      }
    },
    {
      "cell_type": "markdown",
      "source": [
        "### 1. View the First Few Rows\n",
        "- `df.head()`\n",
        "- Displays the first 5 rows (by default) of the DataFrame.\n",
        "- Useful to get an initial look at the dataset structure and sample data."
      ],
      "metadata": {
        "id": "0Jh0muTn1X05"
      }
    },
    {
      "cell_type": "code",
      "source": [
        "df.head()"
      ],
      "metadata": {
        "colab": {
          "base_uri": "https://localhost:8080/"
        },
        "id": "yoU3KJ0Gc_zI",
        "outputId": "a18c0f05-932b-426e-a48c-69fab32c8d4f"
      },
      "execution_count": 11,
      "outputs": [
        {
          "output_type": "execute_result",
          "data": {
            "text/plain": [
              "   id  Gender   Age           City Profession  Academic Pressure  \\\n",
              "0   2    Male  33.0  Visakhapatnam    Student                5.0   \n",
              "1   8  Female  24.0      Bangalore    Student                2.0   \n",
              "2  26    Male  31.0       Srinagar    Student                3.0   \n",
              "3  30  Female  28.0       Varanasi    Student                3.0   \n",
              "4  32  Female  25.0         Jaipur    Student                4.0   \n",
              "\n",
              "   Work Pressure  CGPA  Study Satisfaction  Job Satisfaction  \\\n",
              "0            0.0  8.97                 2.0               0.0   \n",
              "1            0.0  5.90                 5.0               0.0   \n",
              "2            0.0  7.03                 5.0               0.0   \n",
              "3            0.0  5.59                 2.0               0.0   \n",
              "4            0.0  8.13                 3.0               0.0   \n",
              "\n",
              "      Sleep Duration Dietary Habits   Degree  \\\n",
              "0          5-6 hours        Healthy  B.Pharm   \n",
              "1          5-6 hours       Moderate      BSc   \n",
              "2  Less than 5 hours        Healthy       BA   \n",
              "3          7-8 hours       Moderate      BCA   \n",
              "4          5-6 hours       Moderate   M.Tech   \n",
              "\n",
              "  Have you ever had suicidal thoughts ?  Work/Study Hours  Financial Stress  \\\n",
              "0                                   Yes               3.0               1.0   \n",
              "1                                    No               3.0               2.0   \n",
              "2                                    No               9.0               1.0   \n",
              "3                                   Yes               4.0               5.0   \n",
              "4                                   Yes               1.0               1.0   \n",
              "\n",
              "  Family History of Mental Illness  Depression  \n",
              "0                               No           1  \n",
              "1                              Yes           0  \n",
              "2                              Yes           0  \n",
              "3                              Yes           1  \n",
              "4                               No           0  "
            ],
            "text/html": [
              "\n",
              "  <div id=\"df-b1537a0b-1117-4729-9fce-2f277c19d7f4\" class=\"colab-df-container\">\n",
              "    <div>\n",
              "<style scoped>\n",
              "    .dataframe tbody tr th:only-of-type {\n",
              "        vertical-align: middle;\n",
              "    }\n",
              "\n",
              "    .dataframe tbody tr th {\n",
              "        vertical-align: top;\n",
              "    }\n",
              "\n",
              "    .dataframe thead th {\n",
              "        text-align: right;\n",
              "    }\n",
              "</style>\n",
              "<table border=\"1\" class=\"dataframe\">\n",
              "  <thead>\n",
              "    <tr style=\"text-align: right;\">\n",
              "      <th></th>\n",
              "      <th>id</th>\n",
              "      <th>Gender</th>\n",
              "      <th>Age</th>\n",
              "      <th>City</th>\n",
              "      <th>Profession</th>\n",
              "      <th>Academic Pressure</th>\n",
              "      <th>Work Pressure</th>\n",
              "      <th>CGPA</th>\n",
              "      <th>Study Satisfaction</th>\n",
              "      <th>Job Satisfaction</th>\n",
              "      <th>Sleep Duration</th>\n",
              "      <th>Dietary Habits</th>\n",
              "      <th>Degree</th>\n",
              "      <th>Have you ever had suicidal thoughts ?</th>\n",
              "      <th>Work/Study Hours</th>\n",
              "      <th>Financial Stress</th>\n",
              "      <th>Family History of Mental Illness</th>\n",
              "      <th>Depression</th>\n",
              "    </tr>\n",
              "  </thead>\n",
              "  <tbody>\n",
              "    <tr>\n",
              "      <th>0</th>\n",
              "      <td>2</td>\n",
              "      <td>Male</td>\n",
              "      <td>33.0</td>\n",
              "      <td>Visakhapatnam</td>\n",
              "      <td>Student</td>\n",
              "      <td>5.0</td>\n",
              "      <td>0.0</td>\n",
              "      <td>8.97</td>\n",
              "      <td>2.0</td>\n",
              "      <td>0.0</td>\n",
              "      <td>5-6 hours</td>\n",
              "      <td>Healthy</td>\n",
              "      <td>B.Pharm</td>\n",
              "      <td>Yes</td>\n",
              "      <td>3.0</td>\n",
              "      <td>1.0</td>\n",
              "      <td>No</td>\n",
              "      <td>1</td>\n",
              "    </tr>\n",
              "    <tr>\n",
              "      <th>1</th>\n",
              "      <td>8</td>\n",
              "      <td>Female</td>\n",
              "      <td>24.0</td>\n",
              "      <td>Bangalore</td>\n",
              "      <td>Student</td>\n",
              "      <td>2.0</td>\n",
              "      <td>0.0</td>\n",
              "      <td>5.90</td>\n",
              "      <td>5.0</td>\n",
              "      <td>0.0</td>\n",
              "      <td>5-6 hours</td>\n",
              "      <td>Moderate</td>\n",
              "      <td>BSc</td>\n",
              "      <td>No</td>\n",
              "      <td>3.0</td>\n",
              "      <td>2.0</td>\n",
              "      <td>Yes</td>\n",
              "      <td>0</td>\n",
              "    </tr>\n",
              "    <tr>\n",
              "      <th>2</th>\n",
              "      <td>26</td>\n",
              "      <td>Male</td>\n",
              "      <td>31.0</td>\n",
              "      <td>Srinagar</td>\n",
              "      <td>Student</td>\n",
              "      <td>3.0</td>\n",
              "      <td>0.0</td>\n",
              "      <td>7.03</td>\n",
              "      <td>5.0</td>\n",
              "      <td>0.0</td>\n",
              "      <td>Less than 5 hours</td>\n",
              "      <td>Healthy</td>\n",
              "      <td>BA</td>\n",
              "      <td>No</td>\n",
              "      <td>9.0</td>\n",
              "      <td>1.0</td>\n",
              "      <td>Yes</td>\n",
              "      <td>0</td>\n",
              "    </tr>\n",
              "    <tr>\n",
              "      <th>3</th>\n",
              "      <td>30</td>\n",
              "      <td>Female</td>\n",
              "      <td>28.0</td>\n",
              "      <td>Varanasi</td>\n",
              "      <td>Student</td>\n",
              "      <td>3.0</td>\n",
              "      <td>0.0</td>\n",
              "      <td>5.59</td>\n",
              "      <td>2.0</td>\n",
              "      <td>0.0</td>\n",
              "      <td>7-8 hours</td>\n",
              "      <td>Moderate</td>\n",
              "      <td>BCA</td>\n",
              "      <td>Yes</td>\n",
              "      <td>4.0</td>\n",
              "      <td>5.0</td>\n",
              "      <td>Yes</td>\n",
              "      <td>1</td>\n",
              "    </tr>\n",
              "    <tr>\n",
              "      <th>4</th>\n",
              "      <td>32</td>\n",
              "      <td>Female</td>\n",
              "      <td>25.0</td>\n",
              "      <td>Jaipur</td>\n",
              "      <td>Student</td>\n",
              "      <td>4.0</td>\n",
              "      <td>0.0</td>\n",
              "      <td>8.13</td>\n",
              "      <td>3.0</td>\n",
              "      <td>0.0</td>\n",
              "      <td>5-6 hours</td>\n",
              "      <td>Moderate</td>\n",
              "      <td>M.Tech</td>\n",
              "      <td>Yes</td>\n",
              "      <td>1.0</td>\n",
              "      <td>1.0</td>\n",
              "      <td>No</td>\n",
              "      <td>0</td>\n",
              "    </tr>\n",
              "  </tbody>\n",
              "</table>\n",
              "</div>\n",
              "    <div class=\"colab-df-buttons\">\n",
              "\n",
              "  <div class=\"colab-df-container\">\n",
              "    <button class=\"colab-df-convert\" onclick=\"convertToInteractive('df-b1537a0b-1117-4729-9fce-2f277c19d7f4')\"\n",
              "            title=\"Convert this dataframe to an interactive table.\"\n",
              "            style=\"display:none;\">\n",
              "\n",
              "  <svg xmlns=\"http://www.w3.org/2000/svg\" height=\"24px\" viewBox=\"0 -960 960 960\">\n",
              "    <path d=\"M120-120v-720h720v720H120Zm60-500h600v-160H180v160Zm220 220h160v-160H400v160Zm0 220h160v-160H400v160ZM180-400h160v-160H180v160Zm440 0h160v-160H620v160ZM180-180h160v-160H180v160Zm440 0h160v-160H620v160Z\"/>\n",
              "  </svg>\n",
              "    </button>\n",
              "\n",
              "  <style>\n",
              "    .colab-df-container {\n",
              "      display:flex;\n",
              "      gap: 12px;\n",
              "    }\n",
              "\n",
              "    .colab-df-convert {\n",
              "      background-color: #E8F0FE;\n",
              "      border: none;\n",
              "      border-radius: 50%;\n",
              "      cursor: pointer;\n",
              "      display: none;\n",
              "      fill: #1967D2;\n",
              "      height: 32px;\n",
              "      padding: 0 0 0 0;\n",
              "      width: 32px;\n",
              "    }\n",
              "\n",
              "    .colab-df-convert:hover {\n",
              "      background-color: #E2EBFA;\n",
              "      box-shadow: 0px 1px 2px rgba(60, 64, 67, 0.3), 0px 1px 3px 1px rgba(60, 64, 67, 0.15);\n",
              "      fill: #174EA6;\n",
              "    }\n",
              "\n",
              "    .colab-df-buttons div {\n",
              "      margin-bottom: 4px;\n",
              "    }\n",
              "\n",
              "    [theme=dark] .colab-df-convert {\n",
              "      background-color: #3B4455;\n",
              "      fill: #D2E3FC;\n",
              "    }\n",
              "\n",
              "    [theme=dark] .colab-df-convert:hover {\n",
              "      background-color: #434B5C;\n",
              "      box-shadow: 0px 1px 3px 1px rgba(0, 0, 0, 0.15);\n",
              "      filter: drop-shadow(0px 1px 2px rgba(0, 0, 0, 0.3));\n",
              "      fill: #FFFFFF;\n",
              "    }\n",
              "  </style>\n",
              "\n",
              "    <script>\n",
              "      const buttonEl =\n",
              "        document.querySelector('#df-b1537a0b-1117-4729-9fce-2f277c19d7f4 button.colab-df-convert');\n",
              "      buttonEl.style.display =\n",
              "        google.colab.kernel.accessAllowed ? 'block' : 'none';\n",
              "\n",
              "      async function convertToInteractive(key) {\n",
              "        const element = document.querySelector('#df-b1537a0b-1117-4729-9fce-2f277c19d7f4');\n",
              "        const dataTable =\n",
              "          await google.colab.kernel.invokeFunction('convertToInteractive',\n",
              "                                                    [key], {});\n",
              "        if (!dataTable) return;\n",
              "\n",
              "        const docLinkHtml = 'Like what you see? Visit the ' +\n",
              "          '<a target=\"_blank\" href=https://colab.research.google.com/notebooks/data_table.ipynb>data table notebook</a>'\n",
              "          + ' to learn more about interactive tables.';\n",
              "        element.innerHTML = '';\n",
              "        dataTable['output_type'] = 'display_data';\n",
              "        await google.colab.output.renderOutput(dataTable, element);\n",
              "        const docLink = document.createElement('div');\n",
              "        docLink.innerHTML = docLinkHtml;\n",
              "        element.appendChild(docLink);\n",
              "      }\n",
              "    </script>\n",
              "  </div>\n",
              "\n",
              "\n",
              "<div id=\"df-26b725e0-5ba8-4962-997a-70124a31e8df\">\n",
              "  <button class=\"colab-df-quickchart\" onclick=\"quickchart('df-26b725e0-5ba8-4962-997a-70124a31e8df')\"\n",
              "            title=\"Suggest charts\"\n",
              "            style=\"display:none;\">\n",
              "\n",
              "<svg xmlns=\"http://www.w3.org/2000/svg\" height=\"24px\"viewBox=\"0 0 24 24\"\n",
              "     width=\"24px\">\n",
              "    <g>\n",
              "        <path d=\"M19 3H5c-1.1 0-2 .9-2 2v14c0 1.1.9 2 2 2h14c1.1 0 2-.9 2-2V5c0-1.1-.9-2-2-2zM9 17H7v-7h2v7zm4 0h-2V7h2v10zm4 0h-2v-4h2v4z\"/>\n",
              "    </g>\n",
              "</svg>\n",
              "  </button>\n",
              "\n",
              "<style>\n",
              "  .colab-df-quickchart {\n",
              "      --bg-color: #E8F0FE;\n",
              "      --fill-color: #1967D2;\n",
              "      --hover-bg-color: #E2EBFA;\n",
              "      --hover-fill-color: #174EA6;\n",
              "      --disabled-fill-color: #AAA;\n",
              "      --disabled-bg-color: #DDD;\n",
              "  }\n",
              "\n",
              "  [theme=dark] .colab-df-quickchart {\n",
              "      --bg-color: #3B4455;\n",
              "      --fill-color: #D2E3FC;\n",
              "      --hover-bg-color: #434B5C;\n",
              "      --hover-fill-color: #FFFFFF;\n",
              "      --disabled-bg-color: #3B4455;\n",
              "      --disabled-fill-color: #666;\n",
              "  }\n",
              "\n",
              "  .colab-df-quickchart {\n",
              "    background-color: var(--bg-color);\n",
              "    border: none;\n",
              "    border-radius: 50%;\n",
              "    cursor: pointer;\n",
              "    display: none;\n",
              "    fill: var(--fill-color);\n",
              "    height: 32px;\n",
              "    padding: 0;\n",
              "    width: 32px;\n",
              "  }\n",
              "\n",
              "  .colab-df-quickchart:hover {\n",
              "    background-color: var(--hover-bg-color);\n",
              "    box-shadow: 0 1px 2px rgba(60, 64, 67, 0.3), 0 1px 3px 1px rgba(60, 64, 67, 0.15);\n",
              "    fill: var(--button-hover-fill-color);\n",
              "  }\n",
              "\n",
              "  .colab-df-quickchart-complete:disabled,\n",
              "  .colab-df-quickchart-complete:disabled:hover {\n",
              "    background-color: var(--disabled-bg-color);\n",
              "    fill: var(--disabled-fill-color);\n",
              "    box-shadow: none;\n",
              "  }\n",
              "\n",
              "  .colab-df-spinner {\n",
              "    border: 2px solid var(--fill-color);\n",
              "    border-color: transparent;\n",
              "    border-bottom-color: var(--fill-color);\n",
              "    animation:\n",
              "      spin 1s steps(1) infinite;\n",
              "  }\n",
              "\n",
              "  @keyframes spin {\n",
              "    0% {\n",
              "      border-color: transparent;\n",
              "      border-bottom-color: var(--fill-color);\n",
              "      border-left-color: var(--fill-color);\n",
              "    }\n",
              "    20% {\n",
              "      border-color: transparent;\n",
              "      border-left-color: var(--fill-color);\n",
              "      border-top-color: var(--fill-color);\n",
              "    }\n",
              "    30% {\n",
              "      border-color: transparent;\n",
              "      border-left-color: var(--fill-color);\n",
              "      border-top-color: var(--fill-color);\n",
              "      border-right-color: var(--fill-color);\n",
              "    }\n",
              "    40% {\n",
              "      border-color: transparent;\n",
              "      border-right-color: var(--fill-color);\n",
              "      border-top-color: var(--fill-color);\n",
              "    }\n",
              "    60% {\n",
              "      border-color: transparent;\n",
              "      border-right-color: var(--fill-color);\n",
              "    }\n",
              "    80% {\n",
              "      border-color: transparent;\n",
              "      border-right-color: var(--fill-color);\n",
              "      border-bottom-color: var(--fill-color);\n",
              "    }\n",
              "    90% {\n",
              "      border-color: transparent;\n",
              "      border-bottom-color: var(--fill-color);\n",
              "    }\n",
              "  }\n",
              "</style>\n",
              "\n",
              "  <script>\n",
              "    async function quickchart(key) {\n",
              "      const quickchartButtonEl =\n",
              "        document.querySelector('#' + key + ' button');\n",
              "      quickchartButtonEl.disabled = true;  // To prevent multiple clicks.\n",
              "      quickchartButtonEl.classList.add('colab-df-spinner');\n",
              "      try {\n",
              "        const charts = await google.colab.kernel.invokeFunction(\n",
              "            'suggestCharts', [key], {});\n",
              "      } catch (error) {\n",
              "        console.error('Error during call to suggestCharts:', error);\n",
              "      }\n",
              "      quickchartButtonEl.classList.remove('colab-df-spinner');\n",
              "      quickchartButtonEl.classList.add('colab-df-quickchart-complete');\n",
              "    }\n",
              "    (() => {\n",
              "      let quickchartButtonEl =\n",
              "        document.querySelector('#df-26b725e0-5ba8-4962-997a-70124a31e8df button');\n",
              "      quickchartButtonEl.style.display =\n",
              "        google.colab.kernel.accessAllowed ? 'block' : 'none';\n",
              "    })();\n",
              "  </script>\n",
              "</div>\n",
              "\n",
              "    </div>\n",
              "  </div>\n"
            ],
            "application/vnd.google.colaboratory.intrinsic+json": {
              "type": "dataframe",
              "variable_name": "df",
              "summary": "{\n  \"name\": \"df\",\n  \"rows\": 27901,\n  \"fields\": [\n    {\n      \"column\": \"id\",\n      \"properties\": {\n        \"dtype\": \"number\",\n        \"std\": 40641,\n        \"min\": 2,\n        \"max\": 140699,\n        \"num_unique_values\": 27901,\n        \"samples\": [\n          101205,\n          83727,\n          38395\n        ],\n        \"semantic_type\": \"\",\n        \"description\": \"\"\n      }\n    },\n    {\n      \"column\": \"Gender\",\n      \"properties\": {\n        \"dtype\": \"category\",\n        \"num_unique_values\": 2,\n        \"samples\": [\n          \"Female\",\n          \"Male\"\n        ],\n        \"semantic_type\": \"\",\n        \"description\": \"\"\n      }\n    },\n    {\n      \"column\": \"Age\",\n      \"properties\": {\n        \"dtype\": \"number\",\n        \"std\": 4.90568744892443,\n        \"min\": 18.0,\n        \"max\": 59.0,\n        \"num_unique_values\": 34,\n        \"samples\": [\n          32.0,\n          42.0\n        ],\n        \"semantic_type\": \"\",\n        \"description\": \"\"\n      }\n    },\n    {\n      \"column\": \"City\",\n      \"properties\": {\n        \"dtype\": \"category\",\n        \"num_unique_values\": 52,\n        \"samples\": [\n          \"Ludhiana\",\n          \"Harsh\"\n        ],\n        \"semantic_type\": \"\",\n        \"description\": \"\"\n      }\n    },\n    {\n      \"column\": \"Profession\",\n      \"properties\": {\n        \"dtype\": \"category\",\n        \"num_unique_values\": 14,\n        \"samples\": [\n          \"Chef\",\n          \"Lawyer\"\n        ],\n        \"semantic_type\": \"\",\n        \"description\": \"\"\n      }\n    },\n    {\n      \"column\": \"Academic Pressure\",\n      \"properties\": {\n        \"dtype\": \"number\",\n        \"std\": 1.3814648413276254,\n        \"min\": 0.0,\n        \"max\": 5.0,\n        \"num_unique_values\": 6,\n        \"samples\": [\n          5.0,\n          2.0\n        ],\n        \"semantic_type\": \"\",\n        \"description\": \"\"\n      }\n    },\n    {\n      \"column\": \"Work Pressure\",\n      \"properties\": {\n        \"dtype\": \"number\",\n        \"std\": 0.043992032063926795,\n        \"min\": 0.0,\n        \"max\": 5.0,\n        \"num_unique_values\": 3,\n        \"samples\": [\n          0.0,\n          5.0\n        ],\n        \"semantic_type\": \"\",\n        \"description\": \"\"\n      }\n    },\n    {\n      \"column\": \"CGPA\",\n      \"properties\": {\n        \"dtype\": \"number\",\n        \"std\": 1.470707346207616,\n        \"min\": 0.0,\n        \"max\": 10.0,\n        \"num_unique_values\": 332,\n        \"samples\": [\n          5.74,\n          6.32\n        ],\n        \"semantic_type\": \"\",\n        \"description\": \"\"\n      }\n    },\n    {\n      \"column\": \"Study Satisfaction\",\n      \"properties\": {\n        \"dtype\": \"number\",\n        \"std\": 1.361147955267022,\n        \"min\": 0.0,\n        \"max\": 5.0,\n        \"num_unique_values\": 6,\n        \"samples\": [\n          2.0,\n          5.0\n        ],\n        \"semantic_type\": \"\",\n        \"description\": \"\"\n      }\n    },\n    {\n      \"column\": \"Job Satisfaction\",\n      \"properties\": {\n        \"dtype\": \"number\",\n        \"std\": 0.044394396218617196,\n        \"min\": 0.0,\n        \"max\": 4.0,\n        \"num_unique_values\": 5,\n        \"samples\": [\n          3.0,\n          1.0\n        ],\n        \"semantic_type\": \"\",\n        \"description\": \"\"\n      }\n    },\n    {\n      \"column\": \"Sleep Duration\",\n      \"properties\": {\n        \"dtype\": \"category\",\n        \"num_unique_values\": 5,\n        \"samples\": [\n          \"Less than 5 hours\",\n          \"Others\"\n        ],\n        \"semantic_type\": \"\",\n        \"description\": \"\"\n      }\n    },\n    {\n      \"column\": \"Dietary Habits\",\n      \"properties\": {\n        \"dtype\": \"category\",\n        \"num_unique_values\": 4,\n        \"samples\": [\n          \"Moderate\",\n          \"Others\"\n        ],\n        \"semantic_type\": \"\",\n        \"description\": \"\"\n      }\n    },\n    {\n      \"column\": \"Degree\",\n      \"properties\": {\n        \"dtype\": \"category\",\n        \"num_unique_values\": 28,\n        \"samples\": [\n          \"BE\",\n          \"ME\"\n        ],\n        \"semantic_type\": \"\",\n        \"description\": \"\"\n      }\n    },\n    {\n      \"column\": \"Have you ever had suicidal thoughts ?\",\n      \"properties\": {\n        \"dtype\": \"category\",\n        \"num_unique_values\": 2,\n        \"samples\": [\n          \"No\",\n          \"Yes\"\n        ],\n        \"semantic_type\": \"\",\n        \"description\": \"\"\n      }\n    },\n    {\n      \"column\": \"Work/Study Hours\",\n      \"properties\": {\n        \"dtype\": \"number\",\n        \"std\": 3.707642072778702,\n        \"min\": 0.0,\n        \"max\": 12.0,\n        \"num_unique_values\": 13,\n        \"samples\": [\n          5.0,\n          6.0\n        ],\n        \"semantic_type\": \"\",\n        \"description\": \"\"\n      }\n    },\n    {\n      \"column\": \"Financial Stress\",\n      \"properties\": {\n        \"dtype\": \"number\",\n        \"std\": 1.4373466968347501,\n        \"min\": 1.0,\n        \"max\": 5.0,\n        \"num_unique_values\": 5,\n        \"samples\": [\n          2.0,\n          4.0\n        ],\n        \"semantic_type\": \"\",\n        \"description\": \"\"\n      }\n    },\n    {\n      \"column\": \"Family History of Mental Illness\",\n      \"properties\": {\n        \"dtype\": \"category\",\n        \"num_unique_values\": 2,\n        \"samples\": [\n          \"Yes\",\n          \"No\"\n        ],\n        \"semantic_type\": \"\",\n        \"description\": \"\"\n      }\n    },\n    {\n      \"column\": \"Depression\",\n      \"properties\": {\n        \"dtype\": \"number\",\n        \"std\": 0,\n        \"min\": 0,\n        \"max\": 1,\n        \"num_unique_values\": 2,\n        \"samples\": [\n          0,\n          1\n        ],\n        \"semantic_type\": \"\",\n        \"description\": \"\"\n      }\n    }\n  ]\n}"
            }
          },
          "metadata": {},
          "execution_count": 11
        }
      ]
    },
    {
      "cell_type": "markdown",
      "source": [
        "### 2. View the Last Few Rows\n",
        "- `df.tail()`\n",
        "- Displays the last 5 rows (by default) of the DataFrame.\n",
        "- Helps to check the end of the dataset, ensuring that no issues exist in the final rows."
      ],
      "metadata": {
        "id": "8ljAFUN_1cbL"
      }
    },
    {
      "cell_type": "code",
      "source": [
        "df.tail()"
      ],
      "metadata": {
        "colab": {
          "base_uri": "https://localhost:8080/"
        },
        "id": "yOIsYTF8grvT",
        "outputId": "129c73bc-0d6f-470b-918e-e5c5931b3cca"
      },
      "execution_count": 12,
      "outputs": [
        {
          "output_type": "execute_result",
          "data": {
            "text/plain": [
              "           id  Gender   Age       City Profession  Academic Pressure  \\\n",
              "27896  140685  Female  27.0      Surat    Student                5.0   \n",
              "27897  140686    Male  27.0   Ludhiana    Student                2.0   \n",
              "27898  140689    Male  31.0  Faridabad    Student                3.0   \n",
              "27899  140690  Female  18.0   Ludhiana    Student                5.0   \n",
              "27900  140699    Male  27.0      Patna    Student                4.0   \n",
              "\n",
              "       Work Pressure  CGPA  Study Satisfaction  Job Satisfaction  \\\n",
              "27896            0.0  5.75                 5.0               0.0   \n",
              "27897            0.0  9.40                 3.0               0.0   \n",
              "27898            0.0  6.61                 4.0               0.0   \n",
              "27899            0.0  6.88                 2.0               0.0   \n",
              "27900            0.0  9.24                 1.0               0.0   \n",
              "\n",
              "          Sleep Duration Dietary Habits    Degree  \\\n",
              "27896          5-6 hours      Unhealthy  Class 12   \n",
              "27897  Less than 5 hours        Healthy       MSc   \n",
              "27898          5-6 hours      Unhealthy        MD   \n",
              "27899  Less than 5 hours        Healthy  Class 12   \n",
              "27900  Less than 5 hours        Healthy       BCA   \n",
              "\n",
              "      Have you ever had suicidal thoughts ?  Work/Study Hours  \\\n",
              "27896                                   Yes               7.0   \n",
              "27897                                    No               0.0   \n",
              "27898                                    No              12.0   \n",
              "27899                                   Yes              10.0   \n",
              "27900                                   Yes               2.0   \n",
              "\n",
              "       Financial Stress Family History of Mental Illness  Depression  \n",
              "27896               1.0                              Yes           0  \n",
              "27897               3.0                              Yes           0  \n",
              "27898               2.0                               No           0  \n",
              "27899               5.0                               No           1  \n",
              "27900               3.0                              Yes           1  "
            ],
            "text/html": [
              "\n",
              "  <div id=\"df-20bd5ec4-d139-40aa-a347-0185af3e9aab\" class=\"colab-df-container\">\n",
              "    <div>\n",
              "<style scoped>\n",
              "    .dataframe tbody tr th:only-of-type {\n",
              "        vertical-align: middle;\n",
              "    }\n",
              "\n",
              "    .dataframe tbody tr th {\n",
              "        vertical-align: top;\n",
              "    }\n",
              "\n",
              "    .dataframe thead th {\n",
              "        text-align: right;\n",
              "    }\n",
              "</style>\n",
              "<table border=\"1\" class=\"dataframe\">\n",
              "  <thead>\n",
              "    <tr style=\"text-align: right;\">\n",
              "      <th></th>\n",
              "      <th>id</th>\n",
              "      <th>Gender</th>\n",
              "      <th>Age</th>\n",
              "      <th>City</th>\n",
              "      <th>Profession</th>\n",
              "      <th>Academic Pressure</th>\n",
              "      <th>Work Pressure</th>\n",
              "      <th>CGPA</th>\n",
              "      <th>Study Satisfaction</th>\n",
              "      <th>Job Satisfaction</th>\n",
              "      <th>Sleep Duration</th>\n",
              "      <th>Dietary Habits</th>\n",
              "      <th>Degree</th>\n",
              "      <th>Have you ever had suicidal thoughts ?</th>\n",
              "      <th>Work/Study Hours</th>\n",
              "      <th>Financial Stress</th>\n",
              "      <th>Family History of Mental Illness</th>\n",
              "      <th>Depression</th>\n",
              "    </tr>\n",
              "  </thead>\n",
              "  <tbody>\n",
              "    <tr>\n",
              "      <th>27896</th>\n",
              "      <td>140685</td>\n",
              "      <td>Female</td>\n",
              "      <td>27.0</td>\n",
              "      <td>Surat</td>\n",
              "      <td>Student</td>\n",
              "      <td>5.0</td>\n",
              "      <td>0.0</td>\n",
              "      <td>5.75</td>\n",
              "      <td>5.0</td>\n",
              "      <td>0.0</td>\n",
              "      <td>5-6 hours</td>\n",
              "      <td>Unhealthy</td>\n",
              "      <td>Class 12</td>\n",
              "      <td>Yes</td>\n",
              "      <td>7.0</td>\n",
              "      <td>1.0</td>\n",
              "      <td>Yes</td>\n",
              "      <td>0</td>\n",
              "    </tr>\n",
              "    <tr>\n",
              "      <th>27897</th>\n",
              "      <td>140686</td>\n",
              "      <td>Male</td>\n",
              "      <td>27.0</td>\n",
              "      <td>Ludhiana</td>\n",
              "      <td>Student</td>\n",
              "      <td>2.0</td>\n",
              "      <td>0.0</td>\n",
              "      <td>9.40</td>\n",
              "      <td>3.0</td>\n",
              "      <td>0.0</td>\n",
              "      <td>Less than 5 hours</td>\n",
              "      <td>Healthy</td>\n",
              "      <td>MSc</td>\n",
              "      <td>No</td>\n",
              "      <td>0.0</td>\n",
              "      <td>3.0</td>\n",
              "      <td>Yes</td>\n",
              "      <td>0</td>\n",
              "    </tr>\n",
              "    <tr>\n",
              "      <th>27898</th>\n",
              "      <td>140689</td>\n",
              "      <td>Male</td>\n",
              "      <td>31.0</td>\n",
              "      <td>Faridabad</td>\n",
              "      <td>Student</td>\n",
              "      <td>3.0</td>\n",
              "      <td>0.0</td>\n",
              "      <td>6.61</td>\n",
              "      <td>4.0</td>\n",
              "      <td>0.0</td>\n",
              "      <td>5-6 hours</td>\n",
              "      <td>Unhealthy</td>\n",
              "      <td>MD</td>\n",
              "      <td>No</td>\n",
              "      <td>12.0</td>\n",
              "      <td>2.0</td>\n",
              "      <td>No</td>\n",
              "      <td>0</td>\n",
              "    </tr>\n",
              "    <tr>\n",
              "      <th>27899</th>\n",
              "      <td>140690</td>\n",
              "      <td>Female</td>\n",
              "      <td>18.0</td>\n",
              "      <td>Ludhiana</td>\n",
              "      <td>Student</td>\n",
              "      <td>5.0</td>\n",
              "      <td>0.0</td>\n",
              "      <td>6.88</td>\n",
              "      <td>2.0</td>\n",
              "      <td>0.0</td>\n",
              "      <td>Less than 5 hours</td>\n",
              "      <td>Healthy</td>\n",
              "      <td>Class 12</td>\n",
              "      <td>Yes</td>\n",
              "      <td>10.0</td>\n",
              "      <td>5.0</td>\n",
              "      <td>No</td>\n",
              "      <td>1</td>\n",
              "    </tr>\n",
              "    <tr>\n",
              "      <th>27900</th>\n",
              "      <td>140699</td>\n",
              "      <td>Male</td>\n",
              "      <td>27.0</td>\n",
              "      <td>Patna</td>\n",
              "      <td>Student</td>\n",
              "      <td>4.0</td>\n",
              "      <td>0.0</td>\n",
              "      <td>9.24</td>\n",
              "      <td>1.0</td>\n",
              "      <td>0.0</td>\n",
              "      <td>Less than 5 hours</td>\n",
              "      <td>Healthy</td>\n",
              "      <td>BCA</td>\n",
              "      <td>Yes</td>\n",
              "      <td>2.0</td>\n",
              "      <td>3.0</td>\n",
              "      <td>Yes</td>\n",
              "      <td>1</td>\n",
              "    </tr>\n",
              "  </tbody>\n",
              "</table>\n",
              "</div>\n",
              "    <div class=\"colab-df-buttons\">\n",
              "\n",
              "  <div class=\"colab-df-container\">\n",
              "    <button class=\"colab-df-convert\" onclick=\"convertToInteractive('df-20bd5ec4-d139-40aa-a347-0185af3e9aab')\"\n",
              "            title=\"Convert this dataframe to an interactive table.\"\n",
              "            style=\"display:none;\">\n",
              "\n",
              "  <svg xmlns=\"http://www.w3.org/2000/svg\" height=\"24px\" viewBox=\"0 -960 960 960\">\n",
              "    <path d=\"M120-120v-720h720v720H120Zm60-500h600v-160H180v160Zm220 220h160v-160H400v160Zm0 220h160v-160H400v160ZM180-400h160v-160H180v160Zm440 0h160v-160H620v160ZM180-180h160v-160H180v160Zm440 0h160v-160H620v160Z\"/>\n",
              "  </svg>\n",
              "    </button>\n",
              "\n",
              "  <style>\n",
              "    .colab-df-container {\n",
              "      display:flex;\n",
              "      gap: 12px;\n",
              "    }\n",
              "\n",
              "    .colab-df-convert {\n",
              "      background-color: #E8F0FE;\n",
              "      border: none;\n",
              "      border-radius: 50%;\n",
              "      cursor: pointer;\n",
              "      display: none;\n",
              "      fill: #1967D2;\n",
              "      height: 32px;\n",
              "      padding: 0 0 0 0;\n",
              "      width: 32px;\n",
              "    }\n",
              "\n",
              "    .colab-df-convert:hover {\n",
              "      background-color: #E2EBFA;\n",
              "      box-shadow: 0px 1px 2px rgba(60, 64, 67, 0.3), 0px 1px 3px 1px rgba(60, 64, 67, 0.15);\n",
              "      fill: #174EA6;\n",
              "    }\n",
              "\n",
              "    .colab-df-buttons div {\n",
              "      margin-bottom: 4px;\n",
              "    }\n",
              "\n",
              "    [theme=dark] .colab-df-convert {\n",
              "      background-color: #3B4455;\n",
              "      fill: #D2E3FC;\n",
              "    }\n",
              "\n",
              "    [theme=dark] .colab-df-convert:hover {\n",
              "      background-color: #434B5C;\n",
              "      box-shadow: 0px 1px 3px 1px rgba(0, 0, 0, 0.15);\n",
              "      filter: drop-shadow(0px 1px 2px rgba(0, 0, 0, 0.3));\n",
              "      fill: #FFFFFF;\n",
              "    }\n",
              "  </style>\n",
              "\n",
              "    <script>\n",
              "      const buttonEl =\n",
              "        document.querySelector('#df-20bd5ec4-d139-40aa-a347-0185af3e9aab button.colab-df-convert');\n",
              "      buttonEl.style.display =\n",
              "        google.colab.kernel.accessAllowed ? 'block' : 'none';\n",
              "\n",
              "      async function convertToInteractive(key) {\n",
              "        const element = document.querySelector('#df-20bd5ec4-d139-40aa-a347-0185af3e9aab');\n",
              "        const dataTable =\n",
              "          await google.colab.kernel.invokeFunction('convertToInteractive',\n",
              "                                                    [key], {});\n",
              "        if (!dataTable) return;\n",
              "\n",
              "        const docLinkHtml = 'Like what you see? Visit the ' +\n",
              "          '<a target=\"_blank\" href=https://colab.research.google.com/notebooks/data_table.ipynb>data table notebook</a>'\n",
              "          + ' to learn more about interactive tables.';\n",
              "        element.innerHTML = '';\n",
              "        dataTable['output_type'] = 'display_data';\n",
              "        await google.colab.output.renderOutput(dataTable, element);\n",
              "        const docLink = document.createElement('div');\n",
              "        docLink.innerHTML = docLinkHtml;\n",
              "        element.appendChild(docLink);\n",
              "      }\n",
              "    </script>\n",
              "  </div>\n",
              "\n",
              "\n",
              "<div id=\"df-b264d8f0-34e3-4d4e-bd61-1293874b1d49\">\n",
              "  <button class=\"colab-df-quickchart\" onclick=\"quickchart('df-b264d8f0-34e3-4d4e-bd61-1293874b1d49')\"\n",
              "            title=\"Suggest charts\"\n",
              "            style=\"display:none;\">\n",
              "\n",
              "<svg xmlns=\"http://www.w3.org/2000/svg\" height=\"24px\"viewBox=\"0 0 24 24\"\n",
              "     width=\"24px\">\n",
              "    <g>\n",
              "        <path d=\"M19 3H5c-1.1 0-2 .9-2 2v14c0 1.1.9 2 2 2h14c1.1 0 2-.9 2-2V5c0-1.1-.9-2-2-2zM9 17H7v-7h2v7zm4 0h-2V7h2v10zm4 0h-2v-4h2v4z\"/>\n",
              "    </g>\n",
              "</svg>\n",
              "  </button>\n",
              "\n",
              "<style>\n",
              "  .colab-df-quickchart {\n",
              "      --bg-color: #E8F0FE;\n",
              "      --fill-color: #1967D2;\n",
              "      --hover-bg-color: #E2EBFA;\n",
              "      --hover-fill-color: #174EA6;\n",
              "      --disabled-fill-color: #AAA;\n",
              "      --disabled-bg-color: #DDD;\n",
              "  }\n",
              "\n",
              "  [theme=dark] .colab-df-quickchart {\n",
              "      --bg-color: #3B4455;\n",
              "      --fill-color: #D2E3FC;\n",
              "      --hover-bg-color: #434B5C;\n",
              "      --hover-fill-color: #FFFFFF;\n",
              "      --disabled-bg-color: #3B4455;\n",
              "      --disabled-fill-color: #666;\n",
              "  }\n",
              "\n",
              "  .colab-df-quickchart {\n",
              "    background-color: var(--bg-color);\n",
              "    border: none;\n",
              "    border-radius: 50%;\n",
              "    cursor: pointer;\n",
              "    display: none;\n",
              "    fill: var(--fill-color);\n",
              "    height: 32px;\n",
              "    padding: 0;\n",
              "    width: 32px;\n",
              "  }\n",
              "\n",
              "  .colab-df-quickchart:hover {\n",
              "    background-color: var(--hover-bg-color);\n",
              "    box-shadow: 0 1px 2px rgba(60, 64, 67, 0.3), 0 1px 3px 1px rgba(60, 64, 67, 0.15);\n",
              "    fill: var(--button-hover-fill-color);\n",
              "  }\n",
              "\n",
              "  .colab-df-quickchart-complete:disabled,\n",
              "  .colab-df-quickchart-complete:disabled:hover {\n",
              "    background-color: var(--disabled-bg-color);\n",
              "    fill: var(--disabled-fill-color);\n",
              "    box-shadow: none;\n",
              "  }\n",
              "\n",
              "  .colab-df-spinner {\n",
              "    border: 2px solid var(--fill-color);\n",
              "    border-color: transparent;\n",
              "    border-bottom-color: var(--fill-color);\n",
              "    animation:\n",
              "      spin 1s steps(1) infinite;\n",
              "  }\n",
              "\n",
              "  @keyframes spin {\n",
              "    0% {\n",
              "      border-color: transparent;\n",
              "      border-bottom-color: var(--fill-color);\n",
              "      border-left-color: var(--fill-color);\n",
              "    }\n",
              "    20% {\n",
              "      border-color: transparent;\n",
              "      border-left-color: var(--fill-color);\n",
              "      border-top-color: var(--fill-color);\n",
              "    }\n",
              "    30% {\n",
              "      border-color: transparent;\n",
              "      border-left-color: var(--fill-color);\n",
              "      border-top-color: var(--fill-color);\n",
              "      border-right-color: var(--fill-color);\n",
              "    }\n",
              "    40% {\n",
              "      border-color: transparent;\n",
              "      border-right-color: var(--fill-color);\n",
              "      border-top-color: var(--fill-color);\n",
              "    }\n",
              "    60% {\n",
              "      border-color: transparent;\n",
              "      border-right-color: var(--fill-color);\n",
              "    }\n",
              "    80% {\n",
              "      border-color: transparent;\n",
              "      border-right-color: var(--fill-color);\n",
              "      border-bottom-color: var(--fill-color);\n",
              "    }\n",
              "    90% {\n",
              "      border-color: transparent;\n",
              "      border-bottom-color: var(--fill-color);\n",
              "    }\n",
              "  }\n",
              "</style>\n",
              "\n",
              "  <script>\n",
              "    async function quickchart(key) {\n",
              "      const quickchartButtonEl =\n",
              "        document.querySelector('#' + key + ' button');\n",
              "      quickchartButtonEl.disabled = true;  // To prevent multiple clicks.\n",
              "      quickchartButtonEl.classList.add('colab-df-spinner');\n",
              "      try {\n",
              "        const charts = await google.colab.kernel.invokeFunction(\n",
              "            'suggestCharts', [key], {});\n",
              "      } catch (error) {\n",
              "        console.error('Error during call to suggestCharts:', error);\n",
              "      }\n",
              "      quickchartButtonEl.classList.remove('colab-df-spinner');\n",
              "      quickchartButtonEl.classList.add('colab-df-quickchart-complete');\n",
              "    }\n",
              "    (() => {\n",
              "      let quickchartButtonEl =\n",
              "        document.querySelector('#df-b264d8f0-34e3-4d4e-bd61-1293874b1d49 button');\n",
              "      quickchartButtonEl.style.display =\n",
              "        google.colab.kernel.accessAllowed ? 'block' : 'none';\n",
              "    })();\n",
              "  </script>\n",
              "</div>\n",
              "\n",
              "    </div>\n",
              "  </div>\n"
            ],
            "application/vnd.google.colaboratory.intrinsic+json": {
              "type": "dataframe",
              "summary": "{\n  \"name\": \"df\",\n  \"rows\": 5,\n  \"fields\": [\n    {\n      \"column\": \"id\",\n      \"properties\": {\n        \"dtype\": \"number\",\n        \"std\": 5,\n        \"min\": 140685,\n        \"max\": 140699,\n        \"num_unique_values\": 5,\n        \"samples\": [\n          140686,\n          140699,\n          140689\n        ],\n        \"semantic_type\": \"\",\n        \"description\": \"\"\n      }\n    },\n    {\n      \"column\": \"Gender\",\n      \"properties\": {\n        \"dtype\": \"category\",\n        \"num_unique_values\": 2,\n        \"samples\": [\n          \"Male\",\n          \"Female\"\n        ],\n        \"semantic_type\": \"\",\n        \"description\": \"\"\n      }\n    },\n    {\n      \"column\": \"Age\",\n      \"properties\": {\n        \"dtype\": \"number\",\n        \"std\": 4.795831523312719,\n        \"min\": 18.0,\n        \"max\": 31.0,\n        \"num_unique_values\": 3,\n        \"samples\": [\n          27.0,\n          31.0\n        ],\n        \"semantic_type\": \"\",\n        \"description\": \"\"\n      }\n    },\n    {\n      \"column\": \"City\",\n      \"properties\": {\n        \"dtype\": \"string\",\n        \"num_unique_values\": 4,\n        \"samples\": [\n          \"Ludhiana\",\n          \"Patna\"\n        ],\n        \"semantic_type\": \"\",\n        \"description\": \"\"\n      }\n    },\n    {\n      \"column\": \"Profession\",\n      \"properties\": {\n        \"dtype\": \"category\",\n        \"num_unique_values\": 1,\n        \"samples\": [\n          \"Student\"\n        ],\n        \"semantic_type\": \"\",\n        \"description\": \"\"\n      }\n    },\n    {\n      \"column\": \"Academic Pressure\",\n      \"properties\": {\n        \"dtype\": \"number\",\n        \"std\": 1.3038404810405297,\n        \"min\": 2.0,\n        \"max\": 5.0,\n        \"num_unique_values\": 4,\n        \"samples\": [\n          2.0\n        ],\n        \"semantic_type\": \"\",\n        \"description\": \"\"\n      }\n    },\n    {\n      \"column\": \"Work Pressure\",\n      \"properties\": {\n        \"dtype\": \"number\",\n        \"std\": 0.0,\n        \"min\": 0.0,\n        \"max\": 0.0,\n        \"num_unique_values\": 1,\n        \"samples\": [\n          0.0\n        ],\n        \"semantic_type\": \"\",\n        \"description\": \"\"\n      }\n    },\n    {\n      \"column\": \"CGPA\",\n      \"properties\": {\n        \"dtype\": \"number\",\n        \"std\": 1.6467938547371377,\n        \"min\": 5.75,\n        \"max\": 9.4,\n        \"num_unique_values\": 5,\n        \"samples\": [\n          9.4\n        ],\n        \"semantic_type\": \"\",\n        \"description\": \"\"\n      }\n    },\n    {\n      \"column\": \"Study Satisfaction\",\n      \"properties\": {\n        \"dtype\": \"number\",\n        \"std\": 1.5811388300841898,\n        \"min\": 1.0,\n        \"max\": 5.0,\n        \"num_unique_values\": 5,\n        \"samples\": [\n          3.0\n        ],\n        \"semantic_type\": \"\",\n        \"description\": \"\"\n      }\n    },\n    {\n      \"column\": \"Job Satisfaction\",\n      \"properties\": {\n        \"dtype\": \"number\",\n        \"std\": 0.0,\n        \"min\": 0.0,\n        \"max\": 0.0,\n        \"num_unique_values\": 1,\n        \"samples\": [\n          0.0\n        ],\n        \"semantic_type\": \"\",\n        \"description\": \"\"\n      }\n    },\n    {\n      \"column\": \"Sleep Duration\",\n      \"properties\": {\n        \"dtype\": \"category\",\n        \"num_unique_values\": 2,\n        \"samples\": [\n          \"Less than 5 hours\"\n        ],\n        \"semantic_type\": \"\",\n        \"description\": \"\"\n      }\n    },\n    {\n      \"column\": \"Dietary Habits\",\n      \"properties\": {\n        \"dtype\": \"category\",\n        \"num_unique_values\": 2,\n        \"samples\": [\n          \"Healthy\"\n        ],\n        \"semantic_type\": \"\",\n        \"description\": \"\"\n      }\n    },\n    {\n      \"column\": \"Degree\",\n      \"properties\": {\n        \"dtype\": \"string\",\n        \"num_unique_values\": 4,\n        \"samples\": [\n          \"MSc\"\n        ],\n        \"semantic_type\": \"\",\n        \"description\": \"\"\n      }\n    },\n    {\n      \"column\": \"Have you ever had suicidal thoughts ?\",\n      \"properties\": {\n        \"dtype\": \"category\",\n        \"num_unique_values\": 2,\n        \"samples\": [\n          \"No\"\n        ],\n        \"semantic_type\": \"\",\n        \"description\": \"\"\n      }\n    },\n    {\n      \"column\": \"Work/Study Hours\",\n      \"properties\": {\n        \"dtype\": \"number\",\n        \"std\": 5.118593556827891,\n        \"min\": 0.0,\n        \"max\": 12.0,\n        \"num_unique_values\": 5,\n        \"samples\": [\n          0.0\n        ],\n        \"semantic_type\": \"\",\n        \"description\": \"\"\n      }\n    },\n    {\n      \"column\": \"Financial Stress\",\n      \"properties\": {\n        \"dtype\": \"number\",\n        \"std\": 1.4832396974191326,\n        \"min\": 1.0,\n        \"max\": 5.0,\n        \"num_unique_values\": 4,\n        \"samples\": [\n          3.0\n        ],\n        \"semantic_type\": \"\",\n        \"description\": \"\"\n      }\n    },\n    {\n      \"column\": \"Family History of Mental Illness\",\n      \"properties\": {\n        \"dtype\": \"category\",\n        \"num_unique_values\": 2,\n        \"samples\": [\n          \"No\"\n        ],\n        \"semantic_type\": \"\",\n        \"description\": \"\"\n      }\n    },\n    {\n      \"column\": \"Depression\",\n      \"properties\": {\n        \"dtype\": \"number\",\n        \"std\": 0,\n        \"min\": 0,\n        \"max\": 1,\n        \"num_unique_values\": 2,\n        \"samples\": [\n          1\n        ],\n        \"semantic_type\": \"\",\n        \"description\": \"\"\n      }\n    }\n  ]\n}"
            }
          },
          "metadata": {},
          "execution_count": 12
        }
      ]
    },
    {
      "cell_type": "markdown",
      "source": [
        "\n",
        "### 3. Get DataFrame Information\n",
        "- `df.info()`\n",
        "- Provides a concise summary of the DataFrame.\n",
        "- Shows the data types, non-null counts, and memory usage.\n",
        "- Useful for identifying columns with missing values or unexpected data types."
      ],
      "metadata": {
        "id": "ZJ5_RSEV1f1r"
      }
    },
    {
      "cell_type": "code",
      "source": [
        "df.info()"
      ],
      "metadata": {
        "colab": {
          "base_uri": "https://localhost:8080/"
        },
        "id": "BeRBMY6xd5iz",
        "outputId": "d37fa4bd-1067-4c44-e22e-35afc4d90a32"
      },
      "execution_count": 13,
      "outputs": [
        {
          "output_type": "stream",
          "name": "stdout",
          "text": [
            "<class 'pandas.core.frame.DataFrame'>\n",
            "RangeIndex: 27901 entries, 0 to 27900\n",
            "Data columns (total 18 columns):\n",
            " #   Column                                 Non-Null Count  Dtype  \n",
            "---  ------                                 --------------  -----  \n",
            " 0   id                                     27901 non-null  int64  \n",
            " 1   Gender                                 27901 non-null  object \n",
            " 2   Age                                    27901 non-null  float64\n",
            " 3   City                                   27901 non-null  object \n",
            " 4   Profession                             27901 non-null  object \n",
            " 5   Academic Pressure                      27901 non-null  float64\n",
            " 6   Work Pressure                          27901 non-null  float64\n",
            " 7   CGPA                                   27901 non-null  float64\n",
            " 8   Study Satisfaction                     27901 non-null  float64\n",
            " 9   Job Satisfaction                       27901 non-null  float64\n",
            " 10  Sleep Duration                         27901 non-null  object \n",
            " 11  Dietary Habits                         27901 non-null  object \n",
            " 12  Degree                                 27901 non-null  object \n",
            " 13  Have you ever had suicidal thoughts ?  27901 non-null  object \n",
            " 14  Work/Study Hours                       27901 non-null  float64\n",
            " 15  Financial Stress                       27898 non-null  float64\n",
            " 16  Family History of Mental Illness       27901 non-null  object \n",
            " 17  Depression                             27901 non-null  int64  \n",
            "dtypes: float64(8), int64(2), object(8)\n",
            "memory usage: 3.8+ MB\n"
          ]
        }
      ]
    },
    {
      "cell_type": "markdown",
      "source": [
        "### 4. Check for Missing Values\n",
        "- `df.isnull().sum()`\n",
        "- Computes the total number of missing values in each column.\n",
        "- Helps in identifying which columns might need cleaning or imputation."
      ],
      "metadata": {
        "id": "jPs0C2PA1oqZ"
      }
    },
    {
      "cell_type": "code",
      "source": [
        "df.isnull().sum()"
      ],
      "metadata": {
        "colab": {
          "base_uri": "https://localhost:8080/"
        },
        "id": "P8YElP4cfL8u",
        "outputId": "98afbccb-a2f4-46a3-9e46-ab66c4935e06"
      },
      "execution_count": 14,
      "outputs": [
        {
          "output_type": "execute_result",
          "data": {
            "text/plain": [
              "id                                       0\n",
              "Gender                                   0\n",
              "Age                                      0\n",
              "City                                     0\n",
              "Profession                               0\n",
              "Academic Pressure                        0\n",
              "Work Pressure                            0\n",
              "CGPA                                     0\n",
              "Study Satisfaction                       0\n",
              "Job Satisfaction                         0\n",
              "Sleep Duration                           0\n",
              "Dietary Habits                           0\n",
              "Degree                                   0\n",
              "Have you ever had suicidal thoughts ?    0\n",
              "Work/Study Hours                         0\n",
              "Financial Stress                         3\n",
              "Family History of Mental Illness         0\n",
              "Depression                               0\n",
              "dtype: int64"
            ],
            "text/html": [
              "<div>\n",
              "<style scoped>\n",
              "    .dataframe tbody tr th:only-of-type {\n",
              "        vertical-align: middle;\n",
              "    }\n",
              "\n",
              "    .dataframe tbody tr th {\n",
              "        vertical-align: top;\n",
              "    }\n",
              "\n",
              "    .dataframe thead th {\n",
              "        text-align: right;\n",
              "    }\n",
              "</style>\n",
              "<table border=\"1\" class=\"dataframe\">\n",
              "  <thead>\n",
              "    <tr style=\"text-align: right;\">\n",
              "      <th></th>\n",
              "      <th>0</th>\n",
              "    </tr>\n",
              "  </thead>\n",
              "  <tbody>\n",
              "    <tr>\n",
              "      <th>id</th>\n",
              "      <td>0</td>\n",
              "    </tr>\n",
              "    <tr>\n",
              "      <th>Gender</th>\n",
              "      <td>0</td>\n",
              "    </tr>\n",
              "    <tr>\n",
              "      <th>Age</th>\n",
              "      <td>0</td>\n",
              "    </tr>\n",
              "    <tr>\n",
              "      <th>City</th>\n",
              "      <td>0</td>\n",
              "    </tr>\n",
              "    <tr>\n",
              "      <th>Profession</th>\n",
              "      <td>0</td>\n",
              "    </tr>\n",
              "    <tr>\n",
              "      <th>Academic Pressure</th>\n",
              "      <td>0</td>\n",
              "    </tr>\n",
              "    <tr>\n",
              "      <th>Work Pressure</th>\n",
              "      <td>0</td>\n",
              "    </tr>\n",
              "    <tr>\n",
              "      <th>CGPA</th>\n",
              "      <td>0</td>\n",
              "    </tr>\n",
              "    <tr>\n",
              "      <th>Study Satisfaction</th>\n",
              "      <td>0</td>\n",
              "    </tr>\n",
              "    <tr>\n",
              "      <th>Job Satisfaction</th>\n",
              "      <td>0</td>\n",
              "    </tr>\n",
              "    <tr>\n",
              "      <th>Sleep Duration</th>\n",
              "      <td>0</td>\n",
              "    </tr>\n",
              "    <tr>\n",
              "      <th>Dietary Habits</th>\n",
              "      <td>0</td>\n",
              "    </tr>\n",
              "    <tr>\n",
              "      <th>Degree</th>\n",
              "      <td>0</td>\n",
              "    </tr>\n",
              "    <tr>\n",
              "      <th>Have you ever had suicidal thoughts ?</th>\n",
              "      <td>0</td>\n",
              "    </tr>\n",
              "    <tr>\n",
              "      <th>Work/Study Hours</th>\n",
              "      <td>0</td>\n",
              "    </tr>\n",
              "    <tr>\n",
              "      <th>Financial Stress</th>\n",
              "      <td>3</td>\n",
              "    </tr>\n",
              "    <tr>\n",
              "      <th>Family History of Mental Illness</th>\n",
              "      <td>0</td>\n",
              "    </tr>\n",
              "    <tr>\n",
              "      <th>Depression</th>\n",
              "      <td>0</td>\n",
              "    </tr>\n",
              "  </tbody>\n",
              "</table>\n",
              "</div><br><label><b>dtype:</b> int64</label>"
            ]
          },
          "metadata": {},
          "execution_count": 14
        }
      ]
    },
    {
      "cell_type": "markdown",
      "source": [
        "### 5. Generate Descriptive Statistics\n",
        "- `df.describe()`\n",
        "- Provides statistical summaries for numerical columns.\n",
        "- Includes metrics such as count, mean, standard deviation, minimum, and maximum values.\n",
        "- Useful for a quick quantitative summary of the data."
      ],
      "metadata": {
        "id": "CKnH6Cx41pwE"
      }
    },
    {
      "cell_type": "code",
      "source": [
        "df.describe()"
      ],
      "metadata": {
        "id": "enKYKtO0g7Ro"
      },
      "execution_count": null,
      "outputs": []
    },
    {
      "cell_type": "markdown",
      "source": [
        "### 6. Count Unique Values per Column\n",
        "- The loop iterates over each column in the DataFrame:\n",
        "  ```python\n",
        "  for col in df.columns:\n",
        "      print(f\"Column '{col}': {df[col].nunique()} unique values\")"
      ],
      "metadata": {
        "id": "H4V_UoZZ1tNO"
      }
    },
    {
      "cell_type": "code",
      "source": [
        "\n",
        "for col in df.columns:\n",
        "    print(f\"Column '{col}': {df[col].nunique()} unique values\")\n"
      ],
      "metadata": {
        "id": "FAf4lt_fiXIS"
      },
      "execution_count": null,
      "outputs": []
    },
    {
      "cell_type": "markdown",
      "source": [
        "## Encoding Categorical Variables with LabelEncoder\n",
        "\n",
        "This code snippet demonstrates how to preprocess a DataFrame by removing an unnecessary identifier column and encoding categorical (object-type) columns using scikit-learn's `LabelEncoder`. It also captures the mapping from original category names to their corresponding integer labels.\n",
        "\n",
        "## Code Explanation\n",
        "\n",
        "### 1. Remove the 'id' Column\n",
        "- The `id` column is dropped from the DataFrame since it often serves as a unique identifier and is not needed for analysis or modeling.\n",
        "  \n",
        "```python\n",
        "df.drop(\"id\", axis=1, inplace=True)"
      ],
      "metadata": {
        "id": "nXjWu0M4ONd0"
      }
    },
    {
      "cell_type": "code",
      "source": [
        "df.drop(\"id\", axis=1, inplace=True)"
      ],
      "metadata": {
        "id": "IXk02ivHhJr8"
      },
      "execution_count": null,
      "outputs": []
    },
    {
      "cell_type": "code",
      "source": [
        "encoded_data = {}\n",
        "\n",
        "label_encoder = LabelEncoder()\n",
        "\n",
        "for column in df.columns:\n",
        "    if df[column].dtype == 'object':\n",
        "        encoded_data[column] = {}\n",
        "        df[column] = label_encoder.fit_transform(df[column])\n",
        "        for i in range(len(label_encoder.classes_)):\n",
        "            encoded_data[column][label_encoder.classes_[i]] = i\n",
        "encoded_data\n"
      ],
      "metadata": {
        "id": "BV4b0_RSjsd_"
      },
      "execution_count": null,
      "outputs": []
    },
    {
      "cell_type": "markdown",
      "source": [
        "## Visualizing Data Distributions and Correlations\n",
        "\n",
        "This code snippet demonstrates how to visualize the distributions of multiple DataFrame columns using histograms arranged in a grid layout, as well as how to create a correlation heatmap to examine relationships between numerical variables.\n",
        "\n",
        "## Histogram Grid Visualization\n",
        "\n",
        "### 1. Define Grid Parameters\n",
        "- **`num_cols`:** Specifies the total number of histograms to plot (set to 16).\n",
        "- **`cols_per_row`:** Maximum number of histograms per row (set to 6).\n",
        "\n",
        "```python\n",
        "num_cols = 16\n",
        "cols_per_row = 6  # Maksimum histogram per baris\n"
      ],
      "metadata": {
        "id": "P0TqjyUlOUCO"
      }
    },
    {
      "cell_type": "code",
      "source": [
        "# Tentukan jumlah histogram\n",
        "num_cols = 16\n",
        "cols_per_row = 6  # Maksimum histogram per baris\n",
        "\n",
        "# Hitung jumlah baris yang dibutuhkan\n",
        "num_rows = math.ceil(num_cols / cols_per_row)\n",
        "\n",
        "# Buat subplots\n",
        "fig, axes = plt.subplots(num_rows, cols_per_row, figsize=(20, 4 * num_rows))\n",
        "\n",
        "# Flatten axes agar mudah diakses (jika lebih dari 1 baris)\n",
        "axes = axes.flatten()\n",
        "\n",
        "# Loop untuk setiap kolom yang ingin diplot\n",
        "for i, col in enumerate(df.columns[:num_cols]):  # Ambil hanya 16 kolom pertama\n",
        "    sns.histplot(df[col], kde=True, ax=axes[i], orientation=\"vertical\")  # Histogram tetap sama\n",
        "\n",
        "    axes[i].set_title(f'Distribution of {col}')\n",
        "    axes[i].set_xlabel(col)\n",
        "    axes[i].set_ylabel('Frequency')\n",
        "\n",
        "# Sembunyikan subplot kosong jika jumlah histogram tidak genap dengan grid\n",
        "for j in range(i + 1, len(axes)):\n",
        "    fig.delaxes(axes[j])\n",
        "\n",
        "# Atur layout agar lebih rapi\n",
        "plt.tight_layout()\n",
        "plt.show()\n",
        "\n"
      ],
      "metadata": {
        "id": "y96RnsKhi9hv"
      },
      "execution_count": null,
      "outputs": []
    },
    {
      "cell_type": "code",
      "source": [
        "plt.figure(figsize=(12, 10))\n",
        "sns.heatmap(df.corr(), annot=True, cmap='coolwarm', fmt=\".2f\")\n",
        "plt.title('Correlation Heatmap')\n",
        "plt.show()\n"
      ],
      "metadata": {
        "id": "Ks8b4fuWsq11"
      },
      "execution_count": null,
      "outputs": []
    },
    {
      "cell_type": "markdown",
      "source": [
        "# Data Preprocessing dan Normalisasi\n",
        "\n",
        "Notebook ini digunakan untuk melakukan beberapa tahapan preprocessing data, antara lain:\n",
        "\n",
        "1. **Pembersihan Data**  \n",
        "   - Menghapus baris yang memiliki nilai kosong menggunakan `df.dropna(inplace=True)`.  \n",
        "   - Mengecek jumlah missing values di setiap kolom dengan `df.isnull().sum()`."
      ],
      "metadata": {
        "id": "dwOQkIy2N-x9"
      }
    },
    {
      "cell_type": "code",
      "source": [
        "\n",
        "df.dropna(inplace=True)\n"
      ],
      "metadata": {
        "id": "zMJxKPGq0M9R"
      },
      "execution_count": null,
      "outputs": []
    },
    {
      "cell_type": "markdown",
      "source": [
        "2. **Filtering Data**  \n",
        "   - Memilih baris data dengan nilai `CGPA` minimal 0.6, sehingga hanya data dengan nilai `CGPA >= 0.6` yang digunakan.\n",
        "\n"
      ],
      "metadata": {
        "id": "GD3ISrOH-HUo"
      }
    },
    {
      "cell_type": "code",
      "source": [
        "df.isnull().sum()"
      ],
      "metadata": {
        "collapsed": true,
        "id": "LBsMv7FK0X_p"
      },
      "execution_count": null,
      "outputs": []
    },
    {
      "cell_type": "markdown",
      "source": [
        "\n"
      ],
      "metadata": {
        "id": "-H6dl0Y1-KPC"
      }
    },
    {
      "cell_type": "code",
      "source": [
        "# Filter out rows where CGPA is below 0.6\n",
        "df = df[df['CGPA'] >= 0.6]"
      ],
      "metadata": {
        "id": "yDiA98WxYNHx"
      },
      "execution_count": null,
      "outputs": []
    },
    {
      "cell_type": "code",
      "source": [
        "# mengambil data dengan nilai profesi student (karena ini dataset student)\n",
        "df = df[df['Profession'] == 11]"
      ],
      "metadata": {
        "id": "nRDK6l292k6p"
      },
      "execution_count": null,
      "outputs": []
    },
    {
      "cell_type": "markdown",
      "source": [
        "\n",
        "\n",
        "3. **Normalisasi Data**  \n",
        "   - Menggunakan `MinMaxScaler` untuk melakukan normalisasi pada kolom-kolom tertentu (seperti: `Age`, `Academic Pressure`, `CGPA`, `Study Satisfaction`)."
      ],
      "metadata": {
        "id": "mf6VvyB0-PR7"
      }
    },
    {
      "cell_type": "code",
      "source": [
        "# Inisialisasi MinMaxScaler\n",
        "scaler = MinMaxScaler()\n",
        "\n",
        "# Pilih kolom yang ingin dinormalisasi\n",
        "columns_to_normalize = ['Age', 'Academic Pressure', 'CGPA', 'Study Satisfaction']\n",
        "\n",
        "# Normalisasi kolom yang dipilih\n",
        "df[columns_to_normalize] = scaler.fit_transform(df[columns_to_normalize])\n",
        "\n",
        "# Tampilkan DataFrame yang telah dinormalisasi\n",
        "print(df.head())\n"
      ],
      "metadata": {
        "id": "jkjeCeZVZzvT"
      },
      "execution_count": null,
      "outputs": []
    },
    {
      "cell_type": "markdown",
      "source": [
        "\n",
        "3. **Seleksi Fitur**  \n",
        "   - Menentukan fitur-fitur yang akan dikecualikan (misalnya: `Gender`, `Job Satisfaction`, `Profession`, `Work Pressure`).  \n",
        "   - Menghasilkan list fitur yang akan digunakan dengan menyeleksi kolom yang tidak termasuk dalam daftar pengecualian.\n"
      ],
      "metadata": {
        "id": "7HptCF-1-ZGF"
      }
    },
    {
      "cell_type": "code",
      "source": [
        "features_to_exclude = ['Gender', 'Job Satisfaction', 'Profession', 'Work Pressure']\n",
        "selected_features = [col for col in df.columns if col not in features_to_exclude]\n",
        "\n",
        "# Create a new DataFrame with the selected features\n",
        "df_selected = df[selected_features]"
      ],
      "metadata": {
        "id": "iiUbsBVU4oIU"
      },
      "execution_count": null,
      "outputs": []
    },
    {
      "cell_type": "markdown",
      "source": [
        "5. **Membagi Data**  \n",
        "   - Membagi dataset menjadi data latih dan data uji dengan rasio 80% data latih dan 20% data uji menggunakan `train_test_split`."
      ],
      "metadata": {
        "id": "azDnrQvJ-USL"
      }
    },
    {
      "cell_type": "code",
      "source": [
        "# Separate features (X) and target variable (y)\n",
        "X = df_selected.drop('Depression', axis=1)\n",
        "y = df_selected['Depression']\n",
        "\n",
        "# Split the data into training and testing sets\n",
        "X_train, X_test, y_train, y_test = train_test_split(X, y, test_size=0.2, random_state=42) # 80% training and 20% test\n",
        "\n",
        "print(\"Training data shape:\", X_train.shape, y_train.shape)\n",
        "print(\"Testing data shape:\", X_test.shape, y_test.shape)\n"
      ],
      "metadata": {
        "id": "HEvamyjS5iD6"
      },
      "execution_count": null,
      "outputs": []
    },
    {
      "cell_type": "markdown",
      "source": [
        "### Test Dataset"
      ],
      "metadata": {
        "id": "NKGJ-9LcO-lI"
      }
    },
    {
      "cell_type": "code",
      "source": [
        "from sklearn.linear_model import LogisticRegression\n",
        "from sklearn.metrics import accuracy_score, classification_report, confusion_matrix\n",
        "\n",
        "# Initialize and train the Logistic Regression model\n",
        "model = LogisticRegression(max_iter=1000) # Increased max_iter\n",
        "model.fit(X_train, y_train)\n",
        "\n",
        "# Make predictions on the test set\n",
        "y_pred = model.predict(X_test)\n",
        "\n",
        "# Evaluate the model\n",
        "accuracy = accuracy_score(y_test, y_pred)\n",
        "print(f\"Accuracy: {accuracy}\")\n",
        "\n",
        "print(classification_report(y_test, y_pred))\n",
        "\n",
        "conf_matrix = confusion_matrix(y_test, y_pred)\n",
        "print(\"Confusion Matrix:\")\n",
        "conf_matrix\n"
      ],
      "metadata": {
        "collapsed": true,
        "id": "Jlr8Il6U6AzC"
      },
      "execution_count": null,
      "outputs": []
    },
    {
      "cell_type": "code",
      "source": [
        "import tensorflow as tf\n",
        "from tensorflow import keras\n",
        "from tensorflow.keras.callbacks import EarlyStopping, ModelCheckpoint\n",
        "\n",
        "# Assuming X_train, X_test, y_train, y_test are already defined from the previous code\n",
        "\n",
        "# Define the ANN model\n",
        "model = keras.Sequential([\n",
        "    keras.layers.Dense(64, activation='relu', input_shape=(X_train.shape[1],)),\n",
        "    keras.layers.Dense(32, activation='relu'),\n",
        "    keras.layers.Dense(1, activation='sigmoid') # Output layer for binary classification\n",
        "])\n",
        "\n",
        "# Compile the model\n",
        "model.compile(optimizer='adam',\n",
        "              loss='binary_crossentropy', # Use binary_crossentropy for binary classification\n",
        "              metrics=['accuracy'])\n",
        "\n",
        "# Define early stopping\n",
        "early_stopping = EarlyStopping(monitor='val_loss', patience=5, restore_best_weights=True)\n",
        "\n",
        "# Define model checkpoint\n",
        "checkpoint_filepath = 'best_model.h5'\n",
        "model_checkpoint = ModelCheckpoint(filepath=checkpoint_filepath,\n",
        "                                   monitor='val_accuracy',\n",
        "                                   save_best_only=True,\n",
        "                                   mode='max')\n",
        "\n",
        "\n",
        "# Train the model with callbacks\n",
        "history = model.fit(X_train, y_train, epochs=50, batch_size=32,\n",
        "                    validation_split=0.2, callbacks=[early_stopping, model_checkpoint])\n",
        "\n",
        "# Load the best model\n",
        "best_model = keras.models.load_model(checkpoint_filepath)\n",
        "\n",
        "# Evaluate the best model on the test set\n",
        "loss, accuracy = best_model.evaluate(X_test, y_test, verbose=0)\n",
        "print(f\"Test Loss: {loss:.4f}\")\n",
        "print(f\"Test Accuracy: {accuracy:.4f}\")\n",
        "\n",
        "# Make predictions\n",
        "y_pred = (best_model.predict(X_test) > 0.5).astype(\"int32\") # Convert probabilities to binary predictions"
      ],
      "metadata": {
        "id": "CQqZKyDcJ8PI"
      },
      "execution_count": null,
      "outputs": []
    }
  ]
}